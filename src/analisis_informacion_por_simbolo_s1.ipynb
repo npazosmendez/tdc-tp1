{
 "cells": [
  {
   "cell_type": "code",
   "execution_count": 6,
   "metadata": {},
   "outputs": [],
   "source": [
    "import numpy as np\n",
    "import pandas as pd\n",
    "import matplotlib.pyplot as plt\n",
    "from scapy import *\n",
    "from sources import *\n",
    "import seaborn as sns\n",
    "sns.set(style=\"whitegrid\")"
   ]
  },
  {
   "cell_type": "code",
   "execution_count": 66,
   "metadata": {},
   "outputs": [],
   "source": [
    "data_path = '../data/network_1/captures2.pcap'\n",
    "sniffed_packets = sniff(offline=data_path)"
   ]
  },
  {
   "cell_type": "markdown",
   "metadata": {},
   "source": [
    "\n",
    "* Lugar: red de oficina\n",
    "* Horario: 16:27 - 16:43\n",
    "* Duración: 16 minutos\n",
    "* Tecnologia WI-FI\n",
    "* Herramienta de captura: wireshark\n",
    "* Paquetes capturados: 26085\n",
    "\n",
    "\n"
   ]
  },
  {
   "cell_type": "markdown",
   "metadata": {},
   "source": [
    "# Modelado y Analisis de la Informcion por Simbolo para la Fuente S1"
   ]
  },
  {
   "cell_type": "markdown",
   "metadata": {},
   "source": [
    "**Modelo**\n",
    "\n",
    "Sean $ p_1, .., p_n $ las tramas de capa 2 que se capturan en una red local. Se pueden modelar las tramas capturadas como una fuente de información de memoria nula $ S_1 = \\{ s_1 , s_2 , ..., s_q \\} $, donde cada si está formado por la combinación entre el tipo de destino de la trama (unicast o broadcast) y el protocolo de la capa inmediata superior encapsulado en la misma. \n",
    "    \n",
    "    \n"
   ]
  },
  {
   "cell_type": "code",
   "execution_count": 67,
   "metadata": {},
   "outputs": [],
   "source": [
    "S1 = create_S1_source(sniffed_packets)"
   ]
  },
  {
   "cell_type": "markdown",
   "metadata": {},
   "source": [
    "### Información por simbolo y Entropia de la Fuente"
   ]
  },
  {
   "cell_type": "code",
   "execution_count": 68,
   "metadata": {},
   "outputs": [],
   "source": [
    "def entropy(source):\n",
    "    \"\"\"Devuelve entropía de 'source' (float).\"\"\"\n",
    "    infos = informacion_por_simbolo(source)\n",
    "    probas = proba_por_simbolo(source)\n",
    "    # Esto funciona porque los símbolos en infos y probas están en el mismo orden\n",
    "    return sum(np.array(list(infos.values())) * np.array(list(probas.values())))\n"
   ]
  },
  {
   "cell_type": "code",
   "execution_count": 8,
   "metadata": {},
   "outputs": [],
   "source": [
    "def entropy(source):\n",
    "    \"\"\"Devuelve entropía de 'source' (float).\"\"\"\n",
    "    infos = informacion_por_simbolo(source)\n",
    "    probas = proba_por_simbolo(source)\n",
    "    # Esto funciona porque los símbolos en infos y probas están en el mismo orden\n",
    "    return sum(np.array(list(infos.values())) * np.array(list(probas.values())))\n",
    "\n",
    "def grafico_info_por_simbolo_s1(source):\n",
    "    entropia = entropy(source)\n",
    "    entropia_maxima = max_entropy(source)\n",
    "    fig, ax = plt.subplots(figsize=(8, 4))\n",
    "    bar_width = 0.35\n",
    "    informacion = informacion_por_simbolo(source)\n",
    "    bar_width = 0.35\n",
    "    index, values = map(list, zip(*informacion.items()))\n",
    "    ax.bar(index, values, bar_width, color='b')\n",
    "    ax.set_xlabel('Símbolo')\n",
    "    ax.set_ylabel('Información en bits')\n",
    "    ax.set_title('Información para cada Símbolo de S1')\n",
    "    ax.plot(range(6), [entropia]*6, color='k', label='Entropía')\n",
    "    ax.plot(range(6), [entropia_maxima]*6, color='r', label='Entropía máxima')\n",
    "    ax.legend(loc=\"upper right\")\n",
    "    fig.tight_layout()\n",
    "    plt.show()"
   ]
  },
  {
   "cell_type": "markdown",
   "metadata": {},
   "source": [
    "# Red A"
   ]
  },
  {
   "cell_type": "code",
   "execution_count": 3,
   "metadata": {},
   "outputs": [],
   "source": []
  },
  {
   "cell_type": "code",
   "execution_count": 22,
   "metadata": {},
   "outputs": [
    {
     "data": {
      "image/png": "[encoded data removed]",
      "text/plain": [
       "<matplotlib.figure.Figure at 0x16806d438>"
      ]
     },
     "metadata": {},
     "output_type": "display_data"
    }
   ],
   "source": [
    "data_path = '../data/network_1/captures2.pcap'\n",
    "sniffed_packets_a = sniff(offline=data_path)\n",
    "S1_a = create_S1_source(sniffed_packets_a)\n",
    "grafico_info_por_simbolo_s1(S1_a)"
   ]
  },
  {
   "cell_type": "code",
   "execution_count": 23,
   "metadata": {},
   "outputs": [
    {
     "name": "stdout",
     "output_type": "stream",
     "text": [
      "Entropia: 1.749323144285812\n",
      "Entropia maxima: 14.670932812915106\n"
     ]
    },
    {
     "data": {
      "text/plain": [
       "{'broadcast\\nARP': 2.3487229691662117,\n",
       " 'broadcast\\nIP': 5.009154715143119,\n",
       " 'unicast\\nARP': 9.056222968799899,\n",
       " 'unicast\\nIP': 1.2269532703138528,\n",
       " 'unicast\\nIPv6': 1.5813168186870012,\n",
       " 'unicast\\nLLC': 6.74019547535222}"
      ]
     },
     "execution_count": 23,
     "metadata": {},
     "output_type": "execute_result"
    }
   ],
   "source": [
    "print('Entropia: {}'.format(entropy(S1_a)))\n",
    "print('Entropia maxima: {}'.format(max_entropy(S1_a)))\n",
    "informacion_por_simbolo(S1_a)"
   ]
  },
  {
   "cell_type": "markdown",
   "metadata": {},
   "source": [
    "Observaciones:\n",
    "\n",
    "Se puede obsevar que la cantidad de trafico broadcast sobre trafico total es representa aproximadamente 1/5 del trafico total. \n",
    "\n",
    "*Protocolos encontrados*\n",
    "1. ARP o Address Resolution Protocol: es un protocolo de capa de enlace cuya funcion la direccion MAC correspondiente a una direccion IP\n",
    "2. IP o Internet Protocol: es un protocolo de capa de red cuya funcion es enviar y transimir datos a travez de paquetes entre hosts.\n",
    "3. LLC or Logical Link Control: \n",
    "\n",
    "De estos protocolos los protocolos IP son utilizados para transportar datos de usuarios mientras que los protocolos ARP y LLC son protocolos de control.\n",
    "\n",
    "Encotramos que los simbolos < unicast, ARP> , < unicast, LLC> y <broadcast, IP> se pueden considerar como simbolos distinguidos ya que la cantiadad de informacion que proveen es significativamente mayor a las de los otros simbolos.\n",
    "\n",
    "Para S1 la entropia de la fuente de 1.75, mientras que la entropia maxima que se podria llegar a aclanzar para esta fuente es de 14.67. Para esta red, el hecho de que sea considerablemente menor a la entropia maxima nos dice que la secuencia de paquetes que se escucharon no es `tan aleatoria` pues esta seria maxima si la distribucion de los simbolos seria equiprobable lo cual implicaria ...\n",
    "\n"
   ]
  },
  {
   "cell_type": "markdown",
   "metadata": {},
   "source": [
    "# Red B"
   ]
  },
  {
   "cell_type": "code",
   "execution_count": 16,
   "metadata": {},
   "outputs": [
    {
     "data": {
      "image/png": "[encoded data removed]",
      "text/plain": [
       "<matplotlib.figure.Figure at 0x16ceea4a8>"
      ]
     },
     "metadata": {},
     "output_type": "display_data"
    }
   ],
   "source": [
    "data_path = '../data/network_1/starbucks_juramento1.pcap'\n",
    "sniffed_packets_b = sniff(offline=data_path)\n",
    "S1_b = create_S1_source(sniffed_packets_b)\n",
    "grafico_info_por_simbolo_s1(S1_b)"
   ]
  },
  {
   "cell_type": "code",
   "execution_count": 19,
   "metadata": {},
   "outputs": [
    {
     "name": "stdout",
     "output_type": "stream",
     "text": [
      "Entropia: 0.029008166856556238\n",
      "Entropia maxima: 14.49416806599233\n"
     ]
    },
    {
     "data": {
      "text/plain": [
       "{'broadcast\\nARP': 11.172239971104968,\n",
       " 'unicast\\nARP': 9.636187070864759,\n",
       " 'unicast\\nIP': 0.003630525708510118,\n",
       " 'unicast\\nIPv6': 10.246240552548745}"
      ]
     },
     "execution_count": 19,
     "metadata": {},
     "output_type": "execute_result"
    }
   ],
   "source": [
    "print('Entropia: {}'.format(entropy(S1_b)))\n",
    "print('Entropia maxima: {}'.format(max_entropy(S1_b)))\n",
    "informacion_por_simbolo(S1_b)"
   ]
  },
  {
   "cell_type": "markdown",
   "metadata": {},
   "source": [
    "Para la red B podemos ver a primera vista que el simbolo `<unicast, IP>` tiene una cantidad de informacion extremadamente baja, tan solo 0.003 bits, en comparacion con los otros 3 simbolos que estan por encima de los 9 bits. En consecuencia el valor de la entropia de la fuente S1 para esta red es de 0.03 bits lo cual pareceria indicar que esta fuente es bastante predecible."
   ]
  },
  {
   "cell_type": "markdown",
   "metadata": {},
   "source": [
    "# Red C"
   ]
  },
  {
   "cell_type": "code",
   "execution_count": 20,
   "metadata": {},
   "outputs": [
    {
     "data": {
      "image/png": "[encoded data removed]",
      "text/plain": [
       "<matplotlib.figure.Figure at 0x175978470>"
      ]
     },
     "metadata": {},
     "output_type": "display_data"
    }
   ],
   "source": [
    "data_path = '../data/network_1/ethernet_capture.pcap'\n",
    "sniffed_packets_3 = sniff(offline=data_path)\n",
    "S1_c = create_S1_source(sniffed_packets_3)\n",
    "grafico_info_por_simbolo_s1(S1_c)"
   ]
  },
  {
   "cell_type": "code",
   "execution_count": 21,
   "metadata": {},
   "outputs": [
    {
     "name": "stdout",
     "output_type": "stream",
     "text": [
      "Entropia: 0.6155405342412191\n",
      "Entropia maxima: 13.36796070964157\n"
     ]
    },
    {
     "data": {
      "text/plain": [
       "{'broadcast\\nARP': 3.8761076133118957,\n",
       " 'broadcast\\nIP': 7.753250865526361,\n",
       " 'unicast\\nARP': 5.852260871357529,\n",
       " 'unicast\\nIP': 0.15485648999966317,\n",
       " 'unicast\\nIPv6': 6.413764399254695}"
      ]
     },
     "execution_count": 21,
     "metadata": {},
     "output_type": "execute_result"
    }
   ],
   "source": [
    "print('Entropia: {}'.format(entropy(S1_c)))\n",
    "print('Entropia maxima: {}'.format(max_entropy(S1_c)))\n",
    "informacion_por_simbolo(S1_c)"
   ]
  },
  {
   "cell_type": "markdown",
   "metadata": {},
   "source": [
    "Para la red C podemos ver que como antes el simbolo <unicast, IP> se distingue de entre los demas pues presenta una entropia muy baja, de tan solo 0.15 bits, mientras que para los otros simbolos de la red la entropia esta por encima de los 3 bits. Si bien la diferencia no es tan pronunciada como para la red B esta sigue siendo una red bastante predecible. "
   ]
  },
  {
   "cell_type": "markdown",
   "metadata": {},
   "source": [
    "# Red D"
   ]
  },
  {
   "cell_type": "code",
   "execution_count": 24,
   "metadata": {},
   "outputs": [
    {
     "data": {
      "image/png": "[encoded data removed]",
      "text/plain": [
       "<matplotlib.figure.Figure at 0x1759945c0>"
      ]
     },
     "metadata": {},
     "output_type": "display_data"
    }
   ],
   "source": [
    "data_path = '../data/network_1/wired_lan.pcap'\n",
    "sniffed_packets_4 = sniff(offline=data_path)\n",
    "S1_d = create_S1_source(sniffed_packets_4)\n",
    "grafico_info_por_simbolo_s1(S1_d)"
   ]
  },
  {
   "cell_type": "code",
   "execution_count": 25,
   "metadata": {},
   "outputs": [
    {
     "name": "stdout",
     "output_type": "stream",
     "text": [
      "Entropia: 2.1072477099022895\n",
      "Entropia maxima: 11.8668925276766\n"
     ]
    },
    {
     "data": {
      "text/plain": [
       "{'broadcast\\nARP': 1.6024499274499973,\n",
       " 'broadcast\\nIP': 1.5027578726685478,\n",
       " 'unicast\\nIP': 3.3790524938535484,\n",
       " 'unicast\\nIPv6': 3.223036337901875,\n",
       " 'unicast\\nLLC': 3.1664528095355076,\n",
       " 'unicast\\nRaw': 8.281930026955443}"
      ]
     },
     "execution_count": 25,
     "metadata": {},
     "output_type": "execute_result"
    }
   ],
   "source": [
    "print('Entropia: {}'.format(entropy(S1_d)))\n",
    "print('Entropia maxima: {}'.format(max_entropy(S1_d)))\n",
    "informacion_por_simbolo(S1_d)"
   ]
  },
  {
   "cell_type": "markdown",
   "metadata": {},
   "source": [
    "Para la red D podemos ver que la entropia de la fuente es bastante elvada, aproximadamente 2.10 nats, esto parceria deberse en parte a una gran cantidad de trafico esta siendo utilizado para el control de la red."
   ]
  },
  {
   "cell_type": "markdown",
   "metadata": {},
   "source": [
    "Para las fuentes de las redes A y D presentan una entropia considerablemente mayor a las redes B y C. En ambas hay una gran parte del trafico destinado al control de la red "
   ]
  }
 ],
 "metadata": {
  "kernelspec": {
   "display_name": "Python 3",
   "language": "python",
   "name": "python3"
  },
  "language_info": {
   "codemirror_mode": {
    "name": "ipython",
    "version": 3
   },
   "file_extension": ".py",
   "mimetype": "text/x-python",
   "name": "python",
   "nbconvert_exporter": "python",
   "pygments_lexer": "ipython3",
   "version": "3.6.5"
  }
 },
 "nbformat": 4,
 "nbformat_minor": 2
}

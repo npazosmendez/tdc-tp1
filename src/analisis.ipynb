{
 "cells": [
  {
   "cell_type": "code",
   "execution_count": null,
   "metadata": {},
   "outputs": [],
   "source": [
    "import sources\n",
    "import matplotlib.pyplot as plt"
   ]
  },
  {
   "cell_type": "markdown",
   "metadata": {},
   "source": [
    "Este notebook trabaja con los .pkl que genera el script `sources.py` para cada fuente, que se guardan como `dicc<simbolo, frecuencia>`"
   ]
  },
  {
   "cell_type": "code",
   "execution_count": null,
   "metadata": {},
   "outputs": [],
   "source": [
    "# Ploteo de barras\n",
    "def plot_ordered_bars(dicc):\n",
    "    \"\"\"\n",
    "    Plotea cierta propiedad de una fuente como barras ordenadas.\n",
    "    La información está guardada como dict<simbolo, numero> \n",
    "    \"\"\"\n",
    "    # Obtengo los simbolos en orden por los numeros \n",
    "    symbols = [x for (x,y) in sorted(dicc.items(),key=lambda x: x[1])]\n",
    "    vals = [y for (x,y) in sorted(dicc.items(),key=lambda x: x[1])]\n",
    "\n",
    "    # Los muestro en barras\n",
    "    fig = plt.figure()\n",
    "    plt.bar(range(len(symbols)), vals, align='center')\n",
    "    plt.xticks(range(len(dicc)), symbols)\n",
    "    fig.autofmt_xdate() # rotar símbolos del eje x"
   ]
  },
  {
   "cell_type": "markdown",
   "metadata": {},
   "source": [
    "# Fuente S1"
   ]
  },
  {
   "cell_type": "code",
   "execution_count": null,
   "metadata": {},
   "outputs": [],
   "source": [
    "# Ejemplo\n",
    "\n",
    "pickle_path = '../data/ejemplo_S1.pkl'\n",
    "S1 = sources.load_source(pickle_path)\n",
    "\n",
    "infos = sources.informacion_por_simbolo(S1)\n",
    "probas = sources.proba_por_simbolo(S1)\n",
    "entropy = sources.entropy(S1)"
   ]
  },
  {
   "cell_type": "code",
   "execution_count": null,
   "metadata": {
    "scrolled": true
   },
   "outputs": [],
   "source": [
    "plot_ordered_bars(infos)\n",
    "plt.title('Informacion de fuente S1')\n",
    "plt.show()"
   ]
  },
  {
   "cell_type": "markdown",
   "metadata": {},
   "source": [
    "# Fuente S2"
   ]
  },
  {
   "cell_type": "code",
   "execution_count": null,
   "metadata": {},
   "outputs": [],
   "source": [
    "# Ejemplo\n",
    "\n",
    "pickle_path = '../data/ejemplo_S2.pkl'\n",
    "S1 = sources.load_source(pickle_path)\n",
    "\n",
    "infos = sources.informacion_por_simbolo(S1)\n",
    "probas = sources.proba_por_simbolo(S1)\n",
    "entropy = sources.entropy(S1)"
   ]
  },
  {
   "cell_type": "code",
   "execution_count": null,
   "metadata": {
    "scrolled": true
   },
   "outputs": [],
   "source": [
    "plot_ordered_bars(infos)\n",
    "plt.title('Informacion de fuente S2')\n",
    "plt.show()\n",
    "\n",
    "plot_ordered_bars(probas)\n",
    "plt.title('Probabilidades en fuente S2')\n",
    "plt.show()"
   ]
  },
  {
   "cell_type": "code",
   "execution_count": null,
   "metadata": {},
   "outputs": [],
   "source": []
  }
 ],
 "metadata": {
  "kernelspec": {
   "display_name": "Python 2",
   "language": "python",
   "name": "python2"
  },
  "language_info": {
   "codemirror_mode": {
    "name": "ipython",
    "version": 2
   },
   "file_extension": ".py",
   "mimetype": "text/x-python",
   "name": "python",
   "nbconvert_exporter": "python",
   "pygments_lexer": "ipython2",
   "version": "2.7.12"
  }
 },
 "nbformat": 4,
 "nbformat_minor": 2
}
